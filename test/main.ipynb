{
 "cells": [
  {
   "cell_type": "code",
   "execution_count": 1,
   "id": "2f12e659",
   "metadata": {},
   "outputs": [],
   "source": [
    "import base64\n",
    "import gzip\n",
    "import json\n",
    "from collections import defaultdict\n",
    "\n",
    "import matplotlib.pyplot as plt\n",
    "import numpy as np\n",
    "from PIL import Image"
   ]
  },
  {
   "cell_type": "code",
   "execution_count": 2,
   "id": "07f4ebc8",
   "metadata": {},
   "outputs": [],
   "source": [
    "def load_grayscale_image(image_path: str) -> np.ndarray | None:\n",
    "\ttry:\n",
    "\t\timage = Image.open(image_path).convert(\"L\")\n",
    "\t\treturn np.array(image) / 255\n",
    "\texcept:\n",
    "\t\treturn None\n",
    "\n",
    "def show_image(image: np.ndarray) -> None:\n",
    "\tplt.imshow(image, cmap = \"gray\", vmin = 0, vmax = 1)\n",
    "\tplt.show()"
   ]
  },
  {
   "cell_type": "code",
   "execution_count": 3,
   "id": "71b58776",
   "metadata": {},
   "outputs": [],
   "source": [
    "def mean_pool(image: np.ndarray, size: tuple[int, int]) -> np.ndarray:\n",
    "\twidth, height = size\n",
    "\tthumbnail = np.zeros(size)\n",
    "\tblock_height = image.shape[0] / height\n",
    "\tblock_width = image.shape[1] / width\n",
    "\tif block_height < 1 or block_width < 1:\n",
    "\t\traise ValueError(f\"Blueprint's size can not be larger than original image.\")\n",
    "\tfor block_y in range(height):\n",
    "\t\tfor block_x in range(width):\n",
    "\t\t\tblock = image[\n",
    "\t\t\t\tint(block_y * block_height) : int((block_y + 1) * block_height),\n",
    "\t\t\t\tint(block_x * block_width) : int((block_x + 1) * block_width)\n",
    "\t\t\t]\n",
    "\t\t\tthumbnail[block_y, block_x] = np.mean(block)\n",
    "\treturn thumbnail"
   ]
  },
  {
   "cell_type": "code",
   "execution_count": 4,
   "id": "ed46203f",
   "metadata": {},
   "outputs": [],
   "source": [
    "def brightness_remap(image: np.ndarray, min_lightness: float, max_lightness: float) -> np.ndarray:\n",
    "\tnormalized_image =  (image - image.min()) / (image.max() - image.min())\n",
    "\treturn normalized_image * (max_lightness - min_lightness) + min_lightness"
   ]
  },
  {
   "cell_type": "code",
   "execution_count": 5,
   "id": "5befad17",
   "metadata": {},
   "outputs": [],
   "source": [
    "def posterize(image: np.ndarray, palette: list[float]) -> np.ndarray:\n",
    "\tpalette = np.array(palette)\n",
    "\tposterized = image.copy()\n",
    "\theight, width = posterized.shape\n",
    "\tfor y in range(height):\n",
    "\t\tfor x in range(width):\n",
    "\t\t\treal_grayscale = posterized[y, x]\n",
    "\t\t\tposterized_grayscale = palette[np.argmin(np.abs(palette - real_grayscale))]\n",
    "\t\t\tposterized[y, x] = posterized_grayscale\n",
    "\treturn posterized\n",
    "\n",
    "def dither(image: np.ndarray, palette: list[float]) -> np.ndarray:\n",
    "\tpalette = np.array(palette)\n",
    "\tdithered = image.copy()\n",
    "\theight, width = dithered.shape\n",
    "\tfor y in range(height):\n",
    "\t\tfor x in range(width):\n",
    "\t\t\treal_grayscale = dithered[y, x]\n",
    "\t\t\tposterized_grayscale = palette[np.argmin(np.abs(palette - real_grayscale))]\n",
    "\t\t\tdithered[y, x] = posterized_grayscale\n",
    "\t\t\tif y == height - 1 or x == 0 or x == width - 1:\n",
    "\t\t\t\tcontinue\n",
    "\t\t\terror = real_grayscale - posterized_grayscale\n",
    "\t\t\tdithered[y,     x + 1] += error * 7 / 16\n",
    "\t\t\tdithered[y + 1, x - 1] += error * 3 / 16\n",
    "\t\t\tdithered[y + 1, x    ] += error * 5 / 16\n",
    "\t\t\tdithered[y + 1, x + 1] += error * 1 / 16\n",
    "\treturn dithered"
   ]
  },
  {
   "cell_type": "code",
   "execution_count": 6,
   "id": "afec3bb7",
   "metadata": {},
   "outputs": [],
   "source": [
    "def parse_blueprint(blueprint: str) -> dict:\n",
    "\tprefix = \"SHAPEZ2-3-\"\n",
    "\tblueprint_base64 = blueprint[len(prefix):]\n",
    "\tblueprint_compressed = base64.b64decode(blueprint_base64)\n",
    "\tblueprint_json = json.loads(gzip.decompress(blueprint_compressed).decode(\"UTF-8\"))\n",
    "\treturn blueprint_json\n",
    "\n",
    "def extract_palette(blueprint: str, grayscales: list[int]) -> dict[float, str]:\n",
    "\tbuildings: list[dict[str]] = parse_blueprint(blueprint)[\"BP\"][\"Entries\"]\n",
    "\tgrouped_buildings: defaultdict[int, list[dict]] = defaultdict(list)\n",
    "\tfor building in buildings:\n",
    "\t\tif \"X\" not in building:\n",
    "\t\t\tbuilding[\"X\"] = 0\n",
    "\t\tbuilding_offset = building[\"X\"]\n",
    "\t\tbuilding[\"X\"] = \"#X\"\n",
    "\t\tbuilding[\"Y\"] = \"#Y\"\n",
    "\t\tgrouped_buildings[building_offset].append(building)\n",
    "\n",
    "\tpalette: dict[float, str] = {}\n",
    "\tbuilding_offsets = list(grouped_buildings.keys())\n",
    "\tmin_building_offset = min(building_offsets)\n",
    "\tmax_building_offset = max(building_offsets)\n",
    "\tif len(grayscales) != max_building_offset - min_building_offset - 1:\n",
    "\t\traise ValueError(f\"Length of grayscales ({len(grayscales)}) doesn't match the length of building array ({max_building_offset - min_building_offset - 1}).\")\n",
    "\tfor palette_index, building_offset in enumerate(range(min_building_offset + 1, max_building_offset)):\n",
    "\t\tgrayscale = grayscales[palette_index] / 255\n",
    "\t\tif building_offset not in grouped_buildings:\n",
    "\t\t\tpalette[grayscale] = \"\"\n",
    "\t\t\tcontinue\n",
    "\t\tpalette_buildings = json.dumps(grouped_buildings[building_offset], separators = (\",\", \":\"))[1:-1]\n",
    "\t\tpalette_buildings = palette_buildings.replace(\"{\", \"{{\").replace(\"}\", \"}}\")\n",
    "\t\tpalette_buildings = palette_buildings.replace(\"#X\", \"{0}\").replace(\"#Y\", \"{1}\")\n",
    "\t\tpalette[grayscale] = palette_buildings\n",
    "\treturn palette"
   ]
  },
  {
   "cell_type": "code",
   "execution_count": 7,
   "id": "b5c6f8a9",
   "metadata": {},
   "outputs": [],
   "source": [
    "def build_blueprint(image: np.ndarray, palette_mapping: dict[float, str]) -> str:\n",
    "\tblueprint_template = '{{\"V\":1122,\"BP\":{{\"$type\":\"Building\",\"Icon\":{{\"Data\":[null,null,null,null]}},\"Entries\":[{}],\"BinaryVersion\":1122}}}}'\n",
    "\tbuildings: list[str] = []\n",
    "\theight, width = image.shape\n",
    "\tfor y in range(height):\n",
    "\t\tfor x in range(width):\n",
    "\t\t\tgrayscale = image[y, x]\n",
    "\t\t\tbuilding_template = palette_mapping[grayscale]\n",
    "\t\t\tbuilding = building_template.format(x, y)\n",
    "\t\t\tif building != \"\":\n",
    "\t\t\t\tbuildings.append(building)\n",
    "\tblueprint_json = blueprint_template.format(\",\".join(buildings))\n",
    "\tblueprint_compressed = gzip.compress(blueprint_json.encode(\"UTF-8\"))\n",
    "\tblueprint_base64 = base64.b64encode(blueprint_compressed).decode(\"ASCII\")\n",
    "\treturn \"SHAPEZ2-3-\" + blueprint_base64 + \"$\""
   ]
  },
  {
   "cell_type": "code",
   "execution_count": 8,
   "id": "535241a8",
   "metadata": {},
   "outputs": [],
   "source": [
    "def generate(\n",
    "\tgrayscale_image: np.ndarray,\n",
    "\tsize: tuple[int, int] = (54, 54),\n",
    "\tpalette_mapping: dict[float, str] | None = None,\n",
    "\tbrightness_correction: tuple[float, float] | None = None,\n",
    "\tdithering: bool = True,\n",
    "\tplot_image: bool = False\n",
    ") -> str:\n",
    "\tif palette_mapping is None:\n",
    "\t\tpalette_mapping = extract_palette(\n",
    "\t\t\t\"SHAPEZ2-3-H4sIAFc7m2gA/5yUX2uDMBTFv8tlj+7BP2u7PLZuUNiDTOkGow+h3rUXQpQkDkT87tPZgoVJryUQCPmdmxNychvYgfD9IPBgnYBo4MHVJYKAdUUqJ30ED7aHQvdbsXQSxBdQtxaXfQuerpQaJrAnWaLYVMOAfevBi3aG0HbCBj5BPC49yLr6mZH2FOO3rJTbaodGS7WThqR20HoDupiFvnUXGQQfZPDMrw3lR5xSPd2liv5UwaBKqMSNKaydosPxGUyaWzuYVXteVS7t8zmmV/7h/tgp9/2ujLyqivKkMO4dD0g/aKZFHEPh/AD2fEy2VLK+kfFoDnx2kpaKXEf4WRFOoFchuvBZ2v/kCUU075ar8SsxDIX3/EpuXFfsnrIY2+bmZPmvKEWdT0qeGY72XXsmLU29Q2Opb8d9z27bXwEGAKfFB+6/BQAA$\",\n",
    "\t\t\t[12, 24, 32, 42, 50, 64, 72, 82, 88, 94, 106, 120, 135, 160, 170, 180]\n",
    "\t\t)\n",
    "\tpalette = list(palette_mapping.keys())\n",
    "\tthumbnail = mean_pool(grayscale_image, size)\n",
    "\tbrightness_range = (palette[0], palette[-1]) if brightness_correction is None else brightness_correction\n",
    "\tcorrected_thumbnail = brightness_remap(thumbnail, *brightness_range)\n",
    "\tposterized_thumbnail = (dither if dithering else posterize)(corrected_thumbnail, palette)\n",
    "\tif plot_image:\n",
    "\t\tshow_image(posterized_thumbnail)\n",
    "\tblueprint = build_blueprint(posterized_thumbnail, palette_mapping)\n",
    "\treturn blueprint"
   ]
  },
  {
   "cell_type": "code",
   "execution_count": 9,
   "id": "b1756087",
   "metadata": {},
   "outputs": [
    {
     "data": {
      "image/png": "[encoded data removed]",
      "text/plain": [
       "<Figure size 640x480 with 1 Axes>"
      ]
     },
     "metadata": {},
     "output_type": "display_data"
    },
    {
     "name": "stdout",
     "output_type": "stream",
     "text": [
      "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$\n"
     ]
    }
   ],
   "source": [
    "image_path = \"./tests/test4.webp\"\n",
    "\n",
    "blueprint = generate(\n",
    "\tload_grayscale_image(image_path),\n",
    "\tdithering = True,\n",
    "\tplot_image = True\n",
    ")\n",
    "print(blueprint)"
   ]
  }
 ],
 "metadata": {
  "kernelspec": {
   "display_name": "Python 3",
   "language": "python",
   "name": "python3"
  },
  "language_info": {
   "codemirror_mode": {
    "name": "ipython",
    "version": 3
   },
   "file_extension": ".py",
   "mimetype": "text/x-python",
   "name": "python",
   "nbconvert_exporter": "python",
   "pygments_lexer": "ipython3",
   "version": "3.12.8"
  }
 },
 "nbformat": 4,
 "nbformat_minor": 5
}
